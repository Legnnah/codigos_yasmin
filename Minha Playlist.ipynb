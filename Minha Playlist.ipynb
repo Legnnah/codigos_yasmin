{
 "cells": [
  {
   "cell_type": "markdown",
   "id": "3462bb6f",
   "metadata": {},
   "source": [
    "### Minha Playlist"
   ]
  },
  {
   "cell_type": "code",
   "execution_count": 1,
   "id": "62f05095",
   "metadata": {},
   "outputs": [
    {
     "name": "stdout",
     "output_type": "stream",
     "text": [
      "Playlist\n",
      "1. K. - Cigarettes After Sex\n",
      "2. Apocalypse - Cigarettes After Sex\n",
      "3. Each Time You Fall In Love - Cigarettes After Sex\n",
      "4. Fein - Travis Scott\n",
      "5. Garota De Ipanema - Antonio Carlos Jobim\n"
     ]
    }
   ],
   "source": [
    "print(\"Playlist\")\n",
    "playlist = [\"K. - Cigarettes After Sex\", \"Apocalypse - Cigarettes After Sex\", \"Each Time You Fall In Love - Cigarettes After Sex\", \"Fein - Travis Scott\", \"Garota De Ipanema - Antonio Carlos Jobim\"]\n",
    "print(\"1. K. - Cigarettes After Sex\")\n",
    "print(\"2. Apocalypse - Cigarettes After Sex\")\n",
    "print(\"3. Each Time You Fall In Love - Cigarettes After Sex\")\n",
    "print(\"4. Fein - Travis Scott\")\n",
    "print(\"5. Garota De Ipanema - Antonio Carlos Jobim\")"
   ]
  },
  {
   "cell_type": "markdown",
   "id": "0af653eb",
   "metadata": {},
   "source": [
    "### Outro Modelo\n"
   ]
  },
  {
   "cell_type": "code",
   "execution_count": 3,
   "id": "6e32371f",
   "metadata": {},
   "outputs": [
    {
     "name": "stdout",
     "output_type": "stream",
     "text": [
      "Playlist\n",
      "K. - Cigarettes After Sex\n",
      "Apocalypse - Cigarettes After Sex\n",
      "Each Time You Fall In Love - Cigarettes After Sex\n",
      "Fein - Travis Scott\n",
      "Garota De Ipanema - Antonio Carlos Jobim\n"
     ]
    }
   ],
   "source": [
    "print(\"Playlist\")\n",
    "minha_playlist = [\"K. - Cigarettes After Sex\", \"Apocalypse - Cigarettes After Sex\", \"Each Time You Fall In Love - Cigarettes After Sex\", \"Fein - Travis Scott\", \"Garota De Ipanema - Antonio Carlos Jobim\"]\n",
    "print(minha_playlist[0])\n",
    "print(minha_playlist[1])\n",
    "print(minha_playlist[2])\n",
    "print(minha_playlist[3])\n",
    "print(minha_playlist[4])"
   ]
  }
 ],
 "metadata": {
  "kernelspec": {
   "display_name": "Python 3",
   "language": "python",
   "name": "python3"
  },
  "language_info": {
   "codemirror_mode": {
    "name": "ipython",
    "version": 3
   },
   "file_extension": ".py",
   "mimetype": "text/x-python",
   "name": "python",
   "nbconvert_exporter": "python",
   "pygments_lexer": "ipython3",
   "version": "3.13.2"
  }
 },
 "nbformat": 4,
 "nbformat_minor": 5
}
