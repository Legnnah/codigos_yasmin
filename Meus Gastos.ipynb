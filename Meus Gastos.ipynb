{
 "cells": [
  {
   "cell_type": "markdown",
   "id": "1cce4f64",
   "metadata": {},
   "source": [
    "### CLT"
   ]
  },
  {
   "cell_type": "code",
   "execution_count": null,
   "id": "96539b97",
   "metadata": {},
   "outputs": [],
   "source": [
    "salario = 1200\n",
    "gasolina = 70\n",
    "internet = 100\n",
    "alimentos = 500\n",
    "agua = 106\n",
    "luz = 270\n",
    "condominio = 570\n",
    "entretenimento = 1200\n",
    "\n",
    "quanto_sobra = "
   ]
  }
 ],
 "metadata": {
  "language_info": {
   "name": "python"
  }
 },
 "nbformat": 4,
 "nbformat_minor": 5
}
