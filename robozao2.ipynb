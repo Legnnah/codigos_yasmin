{
 "cells": [
  {
   "cell_type": "markdown",
   "id": "6da1540c",
   "metadata": {},
   "source": [
    "### Exercício Bloco de Notas"
   ]
  },
  {
   "cell_type": "code",
   "execution_count": null,
   "id": "54155277",
   "metadata": {},
   "outputs": [],
   "source": [
    "import pyautogui as aut\n",
    "\n",
    "# código\n",
    "aut.hotkey(\"win\", \"r\")\n",
    "aut.write(\"notepad\", interval=0.1)\n",
    "aut.sleep(1)\n",
    "aut.press(\"Enter\")\n",
    "aut.sleep(1)\n",
    "aut.moveTo(79,150)\n",
    "aut.click()\n",
    "aut.sleep(1) \n",
    "aut.write(\"Boa tarde, Yasmin. Digite sua musica favorita logo abaixo:\", interval=0.2)\n",
    "aut.sleep(1)\n",
    "aut.moveTo(542,155)\n",
    "aut.press(\"Enter\")\n",
    "aut.sleep(1)\n",
    "aut.write(\"Cigarettes After Sex - K.\", interval=0.2)\n"
   ]
  },
  {
   "cell_type": "code",
   "execution_count": 6,
   "id": "711f8274",
   "metadata": {},
   "outputs": [],
   "source": [
    "# pegando a posição do mouse\n",
    "aut.mouseInfo()"
   ]
  },
  {
   "cell_type": "markdown",
   "id": "3f40e494",
   "metadata": {},
   "source": [
    "### Exercício YouTube"
   ]
  },
  {
   "cell_type": "code",
   "execution_count": null,
   "id": "a7a0479a",
   "metadata": {},
   "outputs": [],
   "source": [
    "aut.hotkey(\"win\", \"r\")\n",
    "aut.write(\"Chrome\", interval=0.2)\n",
    "aut.press(\"Enter\")\n",
    "aut.moveTo()\n",
    "aut.click()\n",
    "aut.sleep(3)\n",
    "aut.moveTo()\n",
    "aut.click()\n",
    "aut.sleep(1)\n",
    "aut.write(\"youtube.com\")\n",
    "aut.press(\"Enter\")\n",
    "aut.sleep(3)\n",
    "aut.moveTo()\n",
    "aut.click()\n",
    "aut.sleep(3)\n",
    "aut.write(\"musica\")\n",
    "aut.sleep(1)\n",
    "aut.press(\"Enter\")\n",
    "aut.sleep(1)\n",
    "aut.moveTo()\n",
    "aut.click()\n",
    "aut.sleep(1)\n",
    "aut.moveTo()\n",
    "aut.click()"
   ]
  },
  {
   "cell_type": "markdown",
   "id": "a593d6f3",
   "metadata": {},
   "source": [
    "### Exercício Calculadora"
   ]
  },
  {
   "cell_type": "code",
   "execution_count": 2,
   "id": "46f80ef1",
   "metadata": {},
   "outputs": [],
   "source": [
    "import pyautogui as aut\n",
    "# código\n",
    "#abrir calculadora\n",
    "aut.hotkey(\"win\", \"r\")\n",
    "aut.write(\"Calc.exe\", interval=0.1)\n",
    "aut.sleep(1)\n",
    "aut.press(\"Enter\")\n",
    "aut.sleep(1)\n",
    "#click no 9\n",
    "aut.moveTo(1284,563)\n",
    "aut.click()\n",
    "aut.sleep(1)\n",
    "#click no +\n",
    "aut.moveTo(1452,675)\n",
    "aut.click()\n",
    "aut.sleep(1)\n",
    "#click no 1\n",
    "aut.moveTo(1005,670)\n",
    "aut.click()\n",
    "aut.sleep(1)\n",
    "#click no =\n",
    "aut.moveTo(1386,710)\n",
    "aut.click()\n",
    "aut.sleep(1)"
   ]
  },
  {
   "cell_type": "markdown",
   "id": "07b22a71",
   "metadata": {},
   "source": [
    "### Casa"
   ]
  },
  {
   "cell_type": "code",
   "execution_count": 7,
   "id": "31ee00b1",
   "metadata": {},
   "outputs": [],
   "source": [
    "import pyautogui as aut\n",
    "# código\n",
    "#abrir paint\n",
    "aut.press(\"win\")\n",
    "aut.sleep(1)\n",
    "aut.write(\"paint\")\n",
    "aut.press(\"Enter\")\n",
    "aut.sleep(2)\n",
    "aut.moveTo(712,200)\n",
    "aut.click()\n",
    "aut.moveTo(1295,343)\n",
    "aut.click()\n",
    "aut.dragTo(940,815)\n",
    "aut.moveTo(582,79)\n",
    "aut.sleep(1)\n",
    "aut.click()\n",
    "aut.moveTo(1249,320)\n",
    "aut.click()\n",
    "aut.dragTo(589,588)\n",
    "aut.sleep(1)\n",
    "aut.dragTo(1037,432)\n",
    "#definir posição do desenho\n"
   ]
  }
 ],
 "metadata": {
  "kernelspec": {
   "display_name": "Python 3",
   "language": "python",
   "name": "python3"
  },
  "language_info": {
   "codemirror_mode": {
    "name": "ipython",
    "version": 3
   },
   "file_extension": ".py",
   "mimetype": "text/x-python",
   "name": "python",
   "nbconvert_exporter": "python",
   "pygments_lexer": "ipython3",
   "version": "3.13.2"
  }
 },
 "nbformat": 4,
 "nbformat_minor": 5
}
